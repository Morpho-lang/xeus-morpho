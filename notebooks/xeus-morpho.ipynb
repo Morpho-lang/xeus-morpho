{
 "cells": [
  {
   "cell_type": "markdown",
   "metadata": {},
   "source": [
    "<center>\n",
    "    <h1>morpho kernel based on xeus</h1>\n",
    "</center>"
   ]
  },
  {
   "cell_type": "markdown",
   "metadata": {},
   "source": [
    "# Simple code execution"
   ]
  },
  {
   "cell_type": "code",
   "execution_count": null,
   "metadata": {},
   "outputs": [],
   "source": [
    "a = 3"
   ]
  }
 ],
 "metadata": {
  "kernelspec": {
   "display_name": "Python 0.5.7 (xmorpho)",
   "language": "text/x-morpho",
   "name": "xmorpho"
  },
  "language_info": {
   "file_extension": "morpho",
   "mimetype": "text/x-morpho",
   "name": "xmorpho",
   "version": "0.5.7"
  }
 },
 "nbformat": 4,
 "nbformat_minor": 4
}
